{
 "cells": [
  {
   "cell_type": "markdown",
   "metadata": {},
   "source": [
    "# Project: Investigate HIV Datasets\n",
    "\n",
    "## Table of Contents\n",
    "<ul>\n",
    "<li><a href=\"#intro\">Introduction</a></li>\n",
    "<li><a href=\"#wrangling\">Data Wrangling</a></li>\n",
    "<li><a href=\"#eda\">Exploratory Data Analysis</a></li>\n",
    "<li><a href=\"#conclusions\">Conclusions</a></li>\n",
    "</ul>"
   ]
  },
  {
   "cell_type": "markdown",
   "metadata": {},
   "source": [
    "<a id='intro'></a>\n",
    "## Introduction\n",
    "\n",
    "The human immunodeficiency virus (HIV) is a lentivirus (a subgroup of retrovirus) that causes HIV infection and over time acquired immunodeficiency syndrome (AIDS).AIDS is a condition in humans in which progressive failure of the immune system allows life-threatening opportunistic infections and cancers to thrive. Without treatment, average survival time after infection with HIV is estimated to be 9 to 11 years, depending on the HIV subtype. ([Source](https://en.wikipedia.org/wiki/HIV)) It is one of the most dangerous virus that is threatening human beings lives, not only adults but also children. \n",
    "\n",
    "In this report I will investigate a few HIV datasets which are downloaded from [Gapmind](http://www.gapminder.org/data/). The datasets are listed below:\n",
    "\n",
    "* **Child-HIV .csv:** Child death rate in year 2008 in different countries, per thousand\n",
    "* **1-59-HIV .csv:** Total number of child death in year 2008 in different countries\n",
    "* **indicator_hiv_plwha.csv:** Total number of HIV livings in different years and countries \n",
    "* **Indicator_Estimated new HIV cases All ages.csv:** Total number of people among all age groups that were newly infected with HIV during different years\n",
    "* **Indicator_HIV Incidence Ages 15-49.csv:** Number of people between 15 and 49 years old that were newly infected with HIV during the given year per 100 population\n",
    "* **Indicator_Annual number of AIDS deaths.csv:** Total number of deaths due to AIDS during different years\n",
    "* **indicator hiv estimated prevalence% 15-49.csv:** Number of people living with HIV per 100 population of age group 15-49\n",
    "\n",
    "I am hoping to answer a few questions from data in hands: \n",
    "\n",
    "* Which country is the most dangerous in terms of the number of people infected and death. \n",
    "* How these countrie"
   ]
  },
  {
   "cell_type": "code",
   "execution_count": null,
   "metadata": {
    "collapsed": false
   },
   "outputs": [],
   "source": [
    "import os\n",
    "import numpy as np\n",
    "import pandas as pd\n",
    "import matplotlib.pyplot as plt\n",
    "import seaborn as sns\n",
    "\n",
    "%matplotlib inline\n",
    "\n"
   ]
  },
  {
   "cell_type": "markdown",
   "metadata": {},
   "source": [
    "<a id='wrangling'></a>\n",
    "## Data Wrangling\n",
    "\n",
    "\n",
    "### General Properties"
   ]
  },
  {
   "cell_type": "code",
   "execution_count": null,
   "metadata": {
    "collapsed": false
   },
   "outputs": [],
   "source": [
    "# Load different datasets and combine and wrangle data for further investigation\n",
    "child_death_per_k = pd.read_csv('dataset/Child-HIV .csv')\n",
    "child_death_ttl = pd.read_csv('dataset/1-59-HIV .csv') \n",
    "\n",
    "child_death = pd.merge(child_death_ttl, child_death_per_k, how=\"left\", on = \"Gapminder name\")\n",
    "child_death.columns = [\"Country\", \"Total\", \"Num_per_thousand\"]\n",
    "child_death.head()"
   ]
  },
  {
   "cell_type": "code",
   "execution_count": null,
   "metadata": {
    "collapsed": false
   },
   "outputs": [],
   "source": [
    "child_death.info()"
   ]
  },
  {
   "cell_type": "code",
   "execution_count": null,
   "metadata": {
    "collapsed": false
   },
   "outputs": [],
   "source": [
    "child_death.describe()"
   ]
  },
  {
   "cell_type": "markdown",
   "metadata": {},
   "source": [
    "The new dataset `child_death` combines `Child-HIV .csv` and `1-59-HIV .csv`, which demonstrates total number of death and number per thousand in year 2008.\n",
    "\n",
    "From above we can get some initial information:\n",
    "\n",
    "* There are 178 observations in the dataset\n",
    "* The average total number of death is 1130 but median is 6 (1.72 and 0.05 respectively for number per thousand), which means these two variables are highly biased\n",
    "* There is no missing data so we don't need to worry about filling NAs"
   ]
  },
  {
   "cell_type": "code",
   "execution_count": null,
   "metadata": {
    "collapsed": false
   },
   "outputs": [],
   "source": [
    "def melt_func(x):\n",
    "    \"\"\"\n",
    "    Melt dataframe with similar data structure\n",
    "    \"\"\"\n",
    "    idx = x.columns[0]\n",
    "    return x.melt(id_vars = idx)"
   ]
  },
  {
   "cell_type": "code",
   "execution_count": null,
   "metadata": {
    "collapsed": true
   },
   "outputs": [],
   "source": [
    "def outer_merge(x, y):\n",
    "    \"\"\"\n",
    "    Outer merge two dataframes with keys of country and year\n",
    "    \"\"\"\n",
    "    return pd.merge(x, y, how=\"outer\", on=[\"Country\", \"Year\"])"
   ]
  },
  {
   "cell_type": "code",
   "execution_count": null,
   "metadata": {
    "collapsed": false
   },
   "outputs": [],
   "source": [
    "ttl_living_HIV = pd.read_csv('dataset/indicator_hiv_plwha.csv')\n",
    "ttl_living_HIV = melt_func(ttl_living_HIV)\n",
    "ttl_living_HIV.columns = ['Country', 'Year', 'Num_HIV_living']\n",
    "\n",
    "new_HIV_all_age = pd.read_csv('dataset/Indicator_Estimated new HIV cases All ages.csv')\n",
    "new_HIV_all_age = melt_func(new_HIV_all_age)\n",
    "new_HIV_all_age.columns = ['Country', 'Year', 'New_added_HIV_all_age']\n",
    "\n",
    "new_HIV_15_49_pct = pd.read_csv('dataset/Indicator_HIV Incidence Ages 15-49.csv')\n",
    "new_HIV_15_49_pct = melt_func(new_HIV_15_49_pct)\n",
    "new_HIV_15_49_pct.columns = ['Country', 'Year', 'New_added_HIV_15-49_pct']\n",
    "\n",
    "ann_death = pd.read_csv('dataset/Indicator_Annual number of AIDS deaths.csv')\n",
    "ann_death = melt_func(ann_death)\n",
    "ann_death.columns = ['Country', 'Year', 'Annual_death']\n",
    "\n",
    "est_pct_15_49 = pd.read_csv('dataset/indicator hiv estimated prevalence% 15-49.csv')\n",
    "est_pct_15_49 = melt_func(est_pct_15_49)\n",
    "est_pct_15_49.columns = ['Country', 'Year', 'Est_HIV_pct_15-49']\n",
    "\n",
    "ttl_year_data = outer_merge(ttl_living_HIV, \n",
    "                    outer_merge(new_HIV_all_age,\n",
    "                    outer_merge(new_HIV_15_49_pct, \n",
    "                    outer_merge(est_pct_15_49, ann_death))))\n",
    "\n",
    "ttl_year_data.head(10)"
   ]
  },
  {
   "cell_type": "code",
   "execution_count": null,
   "metadata": {
    "collapsed": false
   },
   "outputs": [],
   "source": [
    "ttl_year_data.info()"
   ]
  },
  {
   "cell_type": "code",
   "execution_count": null,
   "metadata": {
    "collapsed": false
   },
   "outputs": [],
   "source": [
    "ttl_year_data.describe()"
   ]
  },
  {
   "cell_type": "markdown",
   "metadata": {},
   "source": [
    "The new dataset `ttl_year_data` combines the all the rest datsets with unpivoted first. The columns `Country` and `Year` are the key connecting different datasets. \n",
    "\n",
    "From above we can also get a little first information:\n",
    "\n",
    "* There are total 9097 observations and 5 columns\n",
    "* There are many missing data \n",
    "* The largest number of HIV living is 5.6 * 10^6, which is extremely huge. The mean is 1.57 * 10^5 and the median is 1.2 * 10^4\n",
    "* The largest number of new added HIV of all ages is 7.2 * 10^5. The mean is 3.5 * 10^4 and the median is 6.2 * 10^3.\n",
    "* The mean of numbers of HIV infected from 15 to 49 is 0.46 and median is 0.42. This is pretty close. \n",
    "* "
   ]
  },
  {
   "cell_type": "markdown",
   "metadata": {},
   "source": [
    "> **Tip**: You should _not_ perform too many operations in each cell. Create cells freely to explore your data. One option that you can take with this project is to do a lot of explorations in an initial notebook. These don't have to be organized, but make sure you use enough comments to understand the purpose of each code cell. Then, after you're done with your analysis, create a duplicate notebook where you will trim the excess and organize your steps so that you have a flowing, cohesive report.\n",
    "\n",
    "> **Tip**: Make sure that you keep your reader informed on the steps that you are taking in your investigation. Follow every code cell, or every set of related code cells, with a markdown cell to describe to the reader what was found in the preceding cell(s). Try to make it so that the reader can then understand what they will be seeing in the following cell(s).\n",
    "\n",
    "### Data Cleaning (Replace this with more specific notes!)"
   ]
  },
  {
   "cell_type": "code",
   "execution_count": null,
   "metadata": {
    "collapsed": true
   },
   "outputs": [],
   "source": [
    "# After discussing the structure of the data and any problems that need to be\n",
    "#   cleaned, perform those cleaning steps in the second part of this section.\n"
   ]
  },
  {
   "cell_type": "markdown",
   "metadata": {},
   "source": [
    "<a id='eda'></a>\n",
    "## Exploratory Data Analysis\n",
    "\n",
    "> **Tip**: Now that you've trimmed and cleaned your data, you're ready to move on to exploration. Compute statistics and create visualizations with the goal of addressing the research questions that you posed in the Introduction section. It is recommended that you be systematic with your approach. Look at one variable at a time, and then follow it up by looking at relationships between variables.\n",
    "\n",
    "### Research Question 1 (Replace this header name!)"
   ]
  },
  {
   "cell_type": "code",
   "execution_count": null,
   "metadata": {
    "collapsed": false
   },
   "outputs": [],
   "source": [
    "# Use this, and more code cells, to explore your data. Don't forget to add\n",
    "#   Markdown cells to document your observations and findings.\n",
    "child_death_top10_1 = child_death[['Country', 'Total']].sort_values(['Total'], ascending = False).iloc[0:9]\n",
    "child_death_top10_1.plot('Country', 'Total', kind='bar')\n",
    "plt.title('Bar of Total Death in 2008')\n",
    "plt.show()"
   ]
  },
  {
   "cell_type": "code",
   "execution_count": null,
   "metadata": {
    "collapsed": false
   },
   "outputs": [],
   "source": [
    "child_death.head()"
   ]
  },
  {
   "cell_type": "code",
   "execution_count": null,
   "metadata": {
    "collapsed": false
   },
   "outputs": [],
   "source": [
    "child_death_top10_2 = child_death[['Country', 'Num_per_thousand']].sort_values('Num_per_thousand', ascending=False).iloc[:9]\n",
    "child_death_top10_2.plot('Country', 'Num_per_thousand', kind = 'bar')"
   ]
  },
  {
   "cell_type": "code",
   "execution_count": null,
   "metadata": {
    "collapsed": false
   },
   "outputs": [],
   "source": [
    "coi = list(set(list(child_death_top10_2.Country) + list(child_death_top10_1.Country)))\n",
    "\n",
    "sub = ttl_year_data.loc[ttl_year_data.Country.isin(coi)]\n",
    "\n",
    "sub.head(5)"
   ]
  },
  {
   "cell_type": "code",
   "execution_count": null,
   "metadata": {
    "collapsed": false
   },
   "outputs": [],
   "source": [
    "for country, group in sub.groupby('Country'):\n",
    "    plt.plot(group['Year'], group['Est_HIV_pct_15-49'], label=country)\n",
    "# plt.legend()\n",
    "plt.rcParams[\"figure.figsize\"] = (12, 5)\n",
    "plt.legend()\n",
    "plt.show()"
   ]
  },
  {
   "cell_type": "markdown",
   "metadata": {},
   "source": [
    "### Research Question 2  (Replace this header name!)"
   ]
  },
  {
   "cell_type": "code",
   "execution_count": null,
   "metadata": {
    "collapsed": true
   },
   "outputs": [],
   "source": [
    "# Continue to explore the data to address your additional research\n",
    "#   questions. Add more headers as needed if you have more questions to\n",
    "#   investigate.\n"
   ]
  },
  {
   "cell_type": "markdown",
   "metadata": {},
   "source": [
    "<a id='conclusions'></a>\n",
    "## Conclusions\n",
    "\n",
    "> **Tip**: Finally, summarize your findings and the results that have been performed. Make sure that you are clear with regards to the limitations of your exploration. If you haven't done any statistical tests, do not imply any statistical conclusions. And make sure you avoid implying causation from correlation!\n",
    "\n",
    "> **Tip**: Once you are satisfied with your work, you should save a copy of the report in HTML or PDF form via the **File** > **Download as** submenu. Before exporting your report, check over it to make sure that the flow of the report is complete. You should probably remove all of the \"Tip\" quotes like this one so that the presentation is as tidy as possible. Congratulations!"
   ]
  },
  {
   "cell_type": "code",
   "execution_count": null,
   "metadata": {
    "collapsed": true
   },
   "outputs": [],
   "source": []
  }
 ],
 "metadata": {
  "anaconda-cloud": {},
  "kernelspec": {
   "display_name": "Python [conda env:py3]",
   "language": "python",
   "name": "conda-env-py3-py"
  },
  "language_info": {
   "codemirror_mode": {
    "name": "ipython",
    "version": 3
   },
   "file_extension": ".py",
   "mimetype": "text/x-python",
   "name": "python",
   "nbconvert_exporter": "python",
   "pygments_lexer": "ipython3",
   "version": "3.6.1"
  }
 },
 "nbformat": 4,
 "nbformat_minor": 2
}
