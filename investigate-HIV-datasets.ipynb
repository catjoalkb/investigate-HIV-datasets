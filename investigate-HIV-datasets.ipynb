{
 "cells": [
  {
   "cell_type": "markdown",
   "metadata": {},
   "source": [
    "# Investigate HIV Datasets\n",
    "\n",
    "## Table of Contents\n",
    "<ul>\n",
    "<li><a href=\"#intro\">Introduction</a></li>\n",
    "<li><a href=\"#wrangling\">Data Wrangling</a></li>\n",
    "<li><a href=\"#eda\">Exploratory Data Analysis</a></li>\n",
    "<li><a href=\"#conclusions\">Conclusions</a></li>\n",
    "</ul>"
   ]
  },
  {
   "cell_type": "markdown",
   "metadata": {},
   "source": [
    "<a id='intro'></a>\n",
    "## Introduction\n",
    "\n",
    "The human immunodeficiency virus (HIV) is a lentivirus (a subgroup of retrovirus) that causes HIV infection and over time acquired immunodeficiency syndrome (AIDS).AIDS is a condition in humans in which progressive failure of the immune system allows life-threatening opportunistic infections and cancers to thrive. Without treatment, average survival time after infection with HIV is estimated to be 9 to 11 years, depending on the HIV subtype. ([Source](https://en.wikipedia.org/wiki/HIV)) It is one of the most dangerous virus that is threatening human beings' lives, not only adults but also children. \n",
    "\n",
    "In this report I will investigate a few HIV datasets which are downloaded from [Gapmind](http://www.gapminder.org/data/). The datasets are listed below:\n",
    "\n",
    "* **Child-HIV .csv:** Child death rate in year 2008 in different countries, per thousand\n",
    "* **1-59-HIV .csv:** Total number of child death in year 2008 in different countries\n",
    "* **indicator_hiv_plwha.csv:** Total number of HIV livings in different years and countries \n",
    "* **Indicator_Estimated new HIV cases All ages.csv:** Total number of people among all age groups that were newly infected with HIV during different years\n",
    "* **Indicator_HIV Incidence Ages 15-49.csv:** Number of people between 15 and 49 years old that were newly infected with HIV during the given year per 100 population\n",
    "* **Indicator_Annual number of AIDS deaths.csv:** Total number of deaths due to AIDS during different years\n",
    "* **indicator hiv estimated prevalence% 15-49.csv:** Number of people living with HIV per 100 population of age group 15-49\n",
    "\n",
    "\n",
    "In order to investigate continent-wise distribution, I need convert these countries' name into continents', so an additinal dataset is imported during this clean process, which is downloaded from [this link](https://github.com/lukes/ISO-3166-Countries-with-Regional-Codes/blob/master/all/all.csv).\n",
    "\n",
    "I am hoping to answer a few questions from data in hands: \n",
    "\n",
    "* Which country is the most dangerous in terms of the number of people infected and death. \n",
    "* How these countrie"
   ]
  },
  {
   "cell_type": "code",
   "execution_count": null,
   "metadata": {
    "collapsed": false
   },
   "outputs": [],
   "source": [
    "import os\n",
    "import numpy as np\n",
    "import pandas as pd\n",
    "import matplotlib.pyplot as plt\n",
    "import seaborn as sns\n",
    "\n",
    "%matplotlib inline\n",
    "\n",
    "plt.rcParams[\"figure.figsize\"] = (12, 5) # set figure size"
   ]
  },
  {
   "cell_type": "markdown",
   "metadata": {},
   "source": [
    "<a id='wrangling'></a>\n",
    "## Data Wrangling\n",
    "\n",
    "Information is stored in different dataset, so first I need to combine them and wrangle for future exploration. \n",
    "\n",
    "### General Properties"
   ]
  },
  {
   "cell_type": "code",
   "execution_count": null,
   "metadata": {
    "collapsed": false
   },
   "outputs": [],
   "source": [
    "# Load different datasets and combine and wrangle data for further investigation\n",
    "child_death_per_k = pd.read_csv('dataset/Child-HIV .csv')\n",
    "child_death_ttl = pd.read_csv('dataset/1-59-HIV .csv') \n",
    "conti_country = pd.read_csv('dataset/all.csv')\n",
    "conti_country = conti_country.loc[:, [\"name\", \"region\"]]\n",
    "conti_country.columns = [\"Country\", \"Continent\"]\n",
    "\n",
    "child_death = pd.merge(child_death_ttl, child_death_per_k, how=\"left\", on = \"Gapminder name\")\n",
    "child_death.columns = [\"Country\", \"Total\", \"Num_per_thousand\"]\n",
    "child_death = pd.merge(child_death, conti_country, how=\"left\", on = \"Country\")\n",
    "\n",
    "child_death.head()"
   ]
  },
  {
   "cell_type": "code",
   "execution_count": null,
   "metadata": {
    "collapsed": false
   },
   "outputs": [],
   "source": [
    "child_death.info()"
   ]
  },
  {
   "cell_type": "code",
   "execution_count": null,
   "metadata": {
    "collapsed": false
   },
   "outputs": [],
   "source": [
    "child_death.describe()"
   ]
  },
  {
   "cell_type": "markdown",
   "metadata": {},
   "source": [
    "The new dataset `child_death` combines `Child-HIV .csv` and `1-59-HIV .csv`, which demonstrates total number of death and number per thousand in year 2008.\n",
    "\n",
    "From above we can get some initial information:\n",
    "\n",
    "* There are 178 observations in the dataset\n",
    "* The average total number of death is 1130 but median is 6 (1.72 and 0.05 respectively for number per thousand), which means these two variables are highly biased\n",
    "* There is a few missing data under continent column"
   ]
  },
  {
   "cell_type": "code",
   "execution_count": null,
   "metadata": {
    "collapsed": false
   },
   "outputs": [],
   "source": [
    "def melt_func(x):\n",
    "    \"\"\"\n",
    "    Melt dataframe with similar data structure\n",
    "    \"\"\"\n",
    "    idx = x.columns[0]\n",
    "    return x.melt(id_vars = idx)"
   ]
  },
  {
   "cell_type": "code",
   "execution_count": null,
   "metadata": {
    "collapsed": true
   },
   "outputs": [],
   "source": [
    "def outer_merge(x, y):\n",
    "    \"\"\"\n",
    "    Outer merge two dataframes with keys of country and year\n",
    "    \"\"\"\n",
    "    return pd.merge(x, y, how=\"outer\", on=[\"Country\", \"Year\"])"
   ]
  },
  {
   "cell_type": "code",
   "execution_count": null,
   "metadata": {
    "collapsed": false
   },
   "outputs": [],
   "source": [
    "ttl_living_HIV = pd.read_csv('dataset/indicator_hiv_plwha.csv')\n",
    "ttl_living_HIV = melt_func(ttl_living_HIV)\n",
    "ttl_living_HIV.columns = ['Country', 'Year', 'Num_HIV_living']\n",
    "\n",
    "new_HIV_all_age = pd.read_csv('dataset/Indicator_Estimated new HIV cases All ages.csv')\n",
    "new_HIV_all_age = melt_func(new_HIV_all_age)\n",
    "new_HIV_all_age.columns = ['Country', 'Year', 'New_added_HIV_all_age']\n",
    "\n",
    "new_HIV_15_49_pct = pd.read_csv('dataset/Indicator_HIV Incidence Ages 15-49.csv')\n",
    "new_HIV_15_49_pct = melt_func(new_HIV_15_49_pct)\n",
    "new_HIV_15_49_pct.columns = ['Country', 'Year', 'New_added_HIV_15-49_pct']\n",
    "\n",
    "ann_death = pd.read_csv('dataset/Indicator_Annual number of AIDS deaths.csv')\n",
    "ann_death = melt_func(ann_death)\n",
    "ann_death.columns = ['Country', 'Year', 'Annual_death']\n",
    "\n",
    "est_pct_15_49 = pd.read_csv('dataset/indicator hiv estimated prevalence% 15-49.csv')\n",
    "est_pct_15_49 = melt_func(est_pct_15_49)\n",
    "est_pct_15_49.columns = ['Country', 'Year', 'Est_HIV_pct_15-49']\n",
    "\n",
    "ttl_year_data = outer_merge(ttl_living_HIV, \n",
    "                    outer_merge(new_HIV_all_age,\n",
    "                    outer_merge(new_HIV_15_49_pct, \n",
    "                    outer_merge(est_pct_15_49, ann_death))))\n",
    "\n",
    "ttl_year_data = pd.merge(ttl_year_data, conti_country, how=\"left\", on=\"Country\")\n",
    "\n",
    "ttl_year_data.head(10)"
   ]
  },
  {
   "cell_type": "code",
   "execution_count": null,
   "metadata": {
    "collapsed": false
   },
   "outputs": [],
   "source": [
    "ttl_year_data.info()"
   ]
  },
  {
   "cell_type": "code",
   "execution_count": null,
   "metadata": {
    "collapsed": false
   },
   "outputs": [],
   "source": [
    "ttl_year_data.describe()"
   ]
  },
  {
   "cell_type": "markdown",
   "metadata": {},
   "source": [
    "The new dataset `ttl_year_data` combines all the rest datsets. Every dataset needs to be unpivoted first and then joined according to column `country` and `year`. \n",
    "\n",
    "From above we can also get some first information:\n",
    "\n",
    "* There are total 9097 observations and 5 columns\n",
    "* There are many missing data, including continents\n",
    "* The largest number of HIV living is 5.6 * 10^6, which is extremely huge. The mean is 1.57 * 10^5 and the median is 1.2 * 10^4\n",
    "* The largest number of new added HIV of all ages is 7.2 * 10^5. The mean is 3.5 * 10^4 and the median is 6.2 * 10^3.\n",
    "* The mean of numbers of HIV newly infected from 15 to 49 is 0.46 and median is 0.42. This is pretty close. \n",
    "* The mean of numbers of HIV infected cases per hundred is 1.74 and median is 0.3. \n",
    "* The mean of annual death is 9050 and median is 350, which is highly skewed. \n"
   ]
  },
  {
   "cell_type": "markdown",
   "metadata": {},
   "source": [
    "### Data Cleaning\n",
    "\n",
    "As previous initial exploration, we can see there are two kinds of missing data: numbers under different indicator column, strings udner continent column. Let's discuss them separately.\n",
    "\n",
    "#### Missing data under different indicator columns"
   ]
  },
  {
   "cell_type": "code",
   "execution_count": null,
   "metadata": {
    "collapsed": false
   },
   "outputs": [],
   "source": [
    "cleaned_year_data = ttl_year_data.copy()\n",
    "cleaned_year_data.groupby('Year').describe()"
   ]
  },
  {
   "cell_type": "markdown",
   "metadata": {},
   "source": [
    "As I find previously there are a lot of missing data. Some common approaches to fill these are:\n",
    "\n",
    "* filled with mean or median\n",
    "* estimate with some algorithms\n",
    "* look for new data source to fill the gap\n",
    "* discard observations with missing data\n",
    "\n",
    "Since values of different indicator are quite different among different years and countries, it is not accurate to use mean or median to fill in a specific year or country, so it wouldn't be a good idea to go with option one. It is also kind of time consuming to go with option two and three. So for simplicity, I will just subset data after 1990 and remain left missing data there."
   ]
  },
  {
   "cell_type": "code",
   "execution_count": null,
   "metadata": {
    "collapsed": false
   },
   "outputs": [],
   "source": [
    "cleaned_year_data = cleaned_year_data.loc[cleaned_year_data.Year >= '1990',]"
   ]
  },
  {
   "cell_type": "markdown",
   "metadata": {},
   "source": [
    "#### Missing data under continent column\n",
    "\n",
    "Missing data under continent column is kind of easier to deal with. First I will query those of missing continent in two combined datasets, and then fill them in one by one."
   ]
  },
  {
   "cell_type": "code",
   "execution_count": null,
   "metadata": {
    "collapsed": false
   },
   "outputs": [],
   "source": [
    "missing_conti = list(child_death.loc[pd.isnull(child_death.Continent), :].Country)\n",
    "missing_conti"
   ]
  },
  {
   "cell_type": "code",
   "execution_count": null,
   "metadata": {
    "collapsed": false
   },
   "outputs": [],
   "source": [
    "cleaned_year_data.loc[pd.isnull(cleaned_year_data.Continent), :].Country"
   ]
  },
  {
   "cell_type": "markdown",
   "metadata": {},
   "source": [
    "It's surprising to see some of countries' name are missing, so it's impossible to know which continent they belong. These observations will also be deleted. "
   ]
  },
  {
   "cell_type": "code",
   "execution_count": null,
   "metadata": {
    "collapsed": false
   },
   "outputs": [],
   "source": [
    "cleaned_year_data = cleaned_year_data.loc[-pd.isnull(cleaned_year_data.Country), :]\n",
    "missing_conti = list(cleaned_year_data.loc[pd.isnull(cleaned_year_data.Continent), :].Country)\n",
    "missing_conti_set = set(missing_conti)\n",
    "missing_conti_set"
   ]
  },
  {
   "cell_type": "markdown",
   "metadata": {},
   "source": [
    "Of all these countries, they may have been reconstructed or reorganized. But in order to conduct further analysis, I will mannually set up a dictionary to map countries to continents."
   ]
  },
  {
   "cell_type": "code",
   "execution_count": null,
   "metadata": {
    "collapsed": false
   },
   "outputs": [],
   "source": [
    "missing_conti_map = {\n",
    " 'Abkhazia': 'Asia',\n",
    " 'Akrotiri and Dhekelia': 'Europe',\n",
    " 'Antarctica': 'Antarctica',\n",
    " 'Bolivia': 'America',\n",
    " 'Bonaire': 'America',\n",
    " 'British Virgin Islands': 'America',\n",
    " 'Brunei': 'Asia',\n",
    " 'Cape Verde': 'Africa',\n",
    " 'Channel Islands': 'Europe',\n",
    " 'Chinese Taipei': 'Asia',\n",
    " 'Christian': 'Africa',\n",
    " 'Christmas Island': 'Asia',\n",
    " 'Coastline': 'Nan',\n",
    " 'Cocos Island': 'Asia',\n",
    " 'Congo, Dem. Rep.': 'Africa',\n",
    " 'Congo, Rep.': 'Africa',\n",
    " 'Cook Is': 'Nan',\n",
    " \"Cote d'Ivoire\": 'Africa',\n",
    " 'Cura\\x8dao': 'Nan',\n",
    " 'Czechoslovakia': 'Europe',\n",
    " 'East Germany': 'Europe',\n",
    " 'Eritrea and Ethiopia': 'Africa',\n",
    " 'Faeroe Islands': 'Europe',\n",
    " 'Falkland Is (Malvinas)': 'America',\n",
    " 'Hawaiian Trade Zone': 'America',\n",
    " 'Hong Kong, China': 'Asia',\n",
    " 'Iran': 'Asia',\n",
    " 'Kosovo': 'Europe',\n",
    " 'Kyrgyz Republic': 'Asia',\n",
    " 'Lao': 'Asia',\n",
    " 'Macao, China': 'Asia',\n",
    " 'Macedonia, FYR': 'Europe',\n",
    " 'Micronesia, Fed. Sts.': 'Oceania',\n",
    " 'Moldova': 'Europe',\n",
    " 'Netherlands Antilles': 'Europe',\n",
    " 'Ngorno-Karabakh': 'Europe',\n",
    " 'North Korea': 'Asia',\n",
    " 'North Yemen (former)': 'Asia',\n",
    " 'Northern Cyprus': 'Europe',\n",
    " 'Reunion': 'Africa',\n",
    " 'Russia': 'Europe',\n",
    " 'Saba': 'Europe',\n",
    " 'Saint Eustatius': 'Europe',\n",
    " 'Sark': 'Europe',\n",
    " 'Serbia and Montenegro': 'Europe',\n",
    " 'Serbia excluding Kosovo': 'Europe',\n",
    " 'Slovak Republic': 'Europe',\n",
    " 'Somaliland': 'Africa',\n",
    " 'South Korea': 'Asia',\n",
    " 'South Ossetia': 'Europe',\n",
    " 'South Yemen (former)': 'Asia',\n",
    " 'St. BarthŽlemy': 'Nan',\n",
    " 'St. Helena': 'Africa',\n",
    " 'St. Kitts and Nevis': 'America',\n",
    " 'St. Lucia': 'America',\n",
    " 'St. Martin': 'America',\n",
    " 'St. Martin (French part)': 'Europe',\n",
    " 'St. Vincent and the Grenadines': 'America',\n",
    " 'St.-Pierre-et-Miquelon': 'America',\n",
    " 'Svalbard': 'Europe',\n",
    " 'Syria': 'Asia',\n",
    " 'Taiwan': 'Asia',\n",
    " 'Tanzania': 'Africa',\n",
    " 'Transnistria': 'Europe',\n",
    " 'U.S. Pacific Islands': 'America',\n",
    " 'USSR': 'Asia',\n",
    " 'United Kingdom': 'Europe',\n",
    " 'United Korea (former)\\r\\n': 'Asia',\n",
    " 'United States': 'America',\n",
    " 'Venezuela': 'America',\n",
    " 'Vietnam': 'Asia',\n",
    " 'Virgin Islands, British': 'America',\n",
    " 'Wake Island': 'Oceania',\n",
    " 'Wallis et Futuna': 'Oceania',\n",
    " 'West Bank and Gaza': 'Europe',\n",
    " 'West Germany': 'Europe',\n",
    " 'Yugoslavia': 'Europe',\n",
    " '\\x81land': 'Nan', \n",
    " 'Central African Rep.': 'Africa',\n",
    " 'Czech Rep.': 'Europe',\n",
    " 'Korea, Dem. Rep.': 'Asia',\n",
    " 'Dominican Rep.': 'America',\n",
    " 'Laos': 'Asia',\n",
    " 'Korea, Rep.': 'Asia',\n",
    " 'Yemen, Rep.': 'Asia'}\n",
    "\n",
    "cleaned_year_data.Continent = cleaned_year_data.Continent.fillna(cleaned_year_data.Country.map(missing_conti_map))\n",
    "child_death.Continent = child_death.Continent.fillna(child_death.Country.map(missing_conti_map))"
   ]
  },
  {
   "cell_type": "markdown",
   "metadata": {},
   "source": [
    "<a id='eda'></a>\n",
    "## Exploratory Data Analysis\n",
    "\n",
    "\n",
    "\n",
    "### Research Question 1 (Replace this header name!)"
   ]
  },
  {
   "cell_type": "code",
   "execution_count": null,
   "metadata": {
    "collapsed": false
   },
   "outputs": [],
   "source": [
    "child_death_top10_1 = child_death[['Country', 'Total']].sort_values(['Total'], ascending = False).iloc[0:9]\n",
    "child_death_top10_1.plot('Country', 'Total', kind='bar')\n",
    "plt.title('Bar of Total Death in 2008')\n",
    "plt.show()"
   ]
  },
  {
   "cell_type": "code",
   "execution_count": null,
   "metadata": {
    "collapsed": false
   },
   "outputs": [],
   "source": [
    "child_death.head()"
   ]
  },
  {
   "cell_type": "code",
   "execution_count": null,
   "metadata": {
    "collapsed": false
   },
   "outputs": [],
   "source": [
    "child_death_top10_2 = child_death[['Country', 'Num_per_thousand']].sort_values('Num_per_thousand', ascending=False).iloc[:9]\n",
    "child_death_top10_2.plot('Country', 'Num_per_thousand', kind = 'bar')"
   ]
  },
  {
   "cell_type": "code",
   "execution_count": null,
   "metadata": {
    "collapsed": false
   },
   "outputs": [],
   "source": [
    "coi = list(set(list(child_death_top10_2.Country) + list(child_death_top10_1.Country)))\n",
    "\n",
    "sub = ttl_year_data.loc[ttl_year_data.Country.isin(coi)]\n",
    "\n",
    "sub.head(5)"
   ]
  },
  {
   "cell_type": "code",
   "execution_count": null,
   "metadata": {
    "collapsed": false
   },
   "outputs": [],
   "source": [
    "for country, group in sub.groupby('Country'):\n",
    "    plt.plot(group['Year'], group['Est_HIV_pct_15-49'], label=country)\n",
    "# plt.legend()\n",
    "\n",
    "plt.legend()\n",
    "plt.show()"
   ]
  },
  {
   "cell_type": "markdown",
   "metadata": {},
   "source": [
    "### Research Question 2  (Replace this header name!)"
   ]
  },
  {
   "cell_type": "code",
   "execution_count": null,
   "metadata": {
    "collapsed": true
   },
   "outputs": [],
   "source": [
    "# Continue to explore the data to address your additional research\n",
    "#   questions. Add more headers as needed if you have more questions to\n",
    "#   investigate.\n"
   ]
  },
  {
   "cell_type": "markdown",
   "metadata": {},
   "source": [
    "<a id='conclusions'></a>\n",
    "## Conclusions\n",
    "\n",
    "> **Tip**: Finally, summarize your findings and the results that have been performed. Make sure that you are clear with regards to the limitations of your exploration. If you haven't done any statistical tests, do not imply any statistical conclusions. And make sure you avoid implying causation from correlation!\n",
    "\n",
    "> **Tip**: Once you are satisfied with your work, you should save a copy of the report in HTML or PDF form via the **File** > **Download as** submenu. Before exporting your report, check over it to make sure that the flow of the report is complete. You should probably remove all of the \"Tip\" quotes like this one so that the presentation is as tidy as possible. Congratulations!"
   ]
  },
  {
   "cell_type": "code",
   "execution_count": null,
   "metadata": {
    "collapsed": true
   },
   "outputs": [],
   "source": []
  }
 ],
 "metadata": {
  "anaconda-cloud": {},
  "kernelspec": {
   "display_name": "Python [conda env:py3]",
   "language": "python",
   "name": "conda-env-py3-py"
  },
  "language_info": {
   "codemirror_mode": {
    "name": "ipython",
    "version": 3
   },
   "file_extension": ".py",
   "mimetype": "text/x-python",
   "name": "python",
   "nbconvert_exporter": "python",
   "pygments_lexer": "ipython3",
   "version": "3.6.1"
  }
 },
 "nbformat": 4,
 "nbformat_minor": 2
}
